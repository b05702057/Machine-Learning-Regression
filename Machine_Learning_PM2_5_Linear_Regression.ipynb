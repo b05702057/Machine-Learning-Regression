{
  "nbformat": 4,
  "nbformat_minor": 0,
  "metadata": {
    "colab": {
      "name": "Machine_Learning_PM2.5_Linear_Regression.ipynb",
      "provenance": [],
      "collapsed_sections": []
    },
    "kernelspec": {
      "name": "python3",
      "display_name": "Python 3"
    },
    "accelerator": "GPU"
  },
  "cells": [
    {
      "cell_type": "markdown",
      "metadata": {
        "id": "CJ3-IZfnR3dg"
      },
      "source": [
        "# **Loading Training Data**"
      ]
    },
    {
      "cell_type": "code",
      "metadata": {
        "id": "i60RrPI4R-Oz",
        "colab": {
          "base_uri": "https://localhost:8080/",
          "height": 136
        },
        "outputId": "6f92adf4-9be3-4555-c295-d84e76144eb7"
      },
      "source": [
        "import sys\n",
        "import pandas as pd\n",
        "import numpy as np\n",
        "from google.colab import drive \n",
        "!gdown --id '1wNKAxQ29G15kgpBy_asjTcZRRgmsCZRm' --output data.zip\n",
        "!unzip data.zip\n",
        "# data = pd.read_csv('gdrive/My Drive/hw1-regression/train.csv', header = None, encoding = 'big5')\n",
        "data = pd.read_csv('./train.csv', encoding = 'big5')"
      ],
      "execution_count": null,
      "outputs": [
        {
          "output_type": "stream",
          "text": [
            "Downloading...\n",
            "From: https://drive.google.com/uc?id=1wNKAxQ29G15kgpBy_asjTcZRRgmsCZRm\n",
            "To: /content/data.zip\n",
            "\r  0% 0.00/177k [00:00<?, ?B/s]\r100% 177k/177k [00:00<00:00, 52.0MB/s]\n",
            "Archive:  data.zip\n",
            "  inflating: test.csv                \n",
            "  inflating: train.csv               \n"
          ],
          "name": "stdout"
        }
      ]
    },
    {
      "cell_type": "markdown",
      "metadata": {
        "id": "EL-YQnFuWVUw"
      },
      "source": [
        "# **Preprocessing**\n"
      ]
    },
    {
      "cell_type": "code",
      "metadata": {
        "id": "aFWZbVk0T9eE"
      },
      "source": [
        "data = data.iloc[:, 3:] # 從第四行開始取\n",
        "data[data == 'NR'] = 0 # 將 Rainfall 為NR之資料補0\n",
        "raw_data = data.to_numpy() # 轉換為numpy格式"
      ],
      "execution_count": null,
      "outputs": []
    },
    {
      "cell_type": "code",
      "metadata": {
        "id": "JFKtMYdFSPhR",
        "colab": {
          "base_uri": "https://localhost:8080/",
          "height": 419
        },
        "outputId": "097a5e91-0d73-45c9-8f1b-2f87a43704a3"
      },
      "source": [
        "data"
      ],
      "execution_count": null,
      "outputs": [
        {
          "output_type": "execute_result",
          "data": {
            "text/html": [
              "<div>\n",
              "<style scoped>\n",
              "    .dataframe tbody tr th:only-of-type {\n",
              "        vertical-align: middle;\n",
              "    }\n",
              "\n",
              "    .dataframe tbody tr th {\n",
              "        vertical-align: top;\n",
              "    }\n",
              "\n",
              "    .dataframe thead th {\n",
              "        text-align: right;\n",
              "    }\n",
              "</style>\n",
              "<table border=\"1\" class=\"dataframe\">\n",
              "  <thead>\n",
              "    <tr style=\"text-align: right;\">\n",
              "      <th></th>\n",
              "      <th>0</th>\n",
              "      <th>1</th>\n",
              "      <th>2</th>\n",
              "      <th>3</th>\n",
              "      <th>4</th>\n",
              "      <th>5</th>\n",
              "      <th>6</th>\n",
              "      <th>7</th>\n",
              "      <th>8</th>\n",
              "      <th>9</th>\n",
              "      <th>10</th>\n",
              "      <th>11</th>\n",
              "      <th>12</th>\n",
              "      <th>13</th>\n",
              "      <th>14</th>\n",
              "      <th>15</th>\n",
              "      <th>16</th>\n",
              "      <th>17</th>\n",
              "      <th>18</th>\n",
              "      <th>19</th>\n",
              "      <th>20</th>\n",
              "      <th>21</th>\n",
              "      <th>22</th>\n",
              "      <th>23</th>\n",
              "    </tr>\n",
              "  </thead>\n",
              "  <tbody>\n",
              "    <tr>\n",
              "      <th>0</th>\n",
              "      <td>14</td>\n",
              "      <td>14</td>\n",
              "      <td>14</td>\n",
              "      <td>13</td>\n",
              "      <td>12</td>\n",
              "      <td>12</td>\n",
              "      <td>12</td>\n",
              "      <td>12</td>\n",
              "      <td>15</td>\n",
              "      <td>17</td>\n",
              "      <td>20</td>\n",
              "      <td>22</td>\n",
              "      <td>22</td>\n",
              "      <td>22</td>\n",
              "      <td>22</td>\n",
              "      <td>22</td>\n",
              "      <td>21</td>\n",
              "      <td>19</td>\n",
              "      <td>17</td>\n",
              "      <td>16</td>\n",
              "      <td>15</td>\n",
              "      <td>15</td>\n",
              "      <td>15</td>\n",
              "      <td>15</td>\n",
              "    </tr>\n",
              "    <tr>\n",
              "      <th>1</th>\n",
              "      <td>1.8</td>\n",
              "      <td>1.8</td>\n",
              "      <td>1.8</td>\n",
              "      <td>1.8</td>\n",
              "      <td>1.8</td>\n",
              "      <td>1.8</td>\n",
              "      <td>1.8</td>\n",
              "      <td>1.8</td>\n",
              "      <td>1.8</td>\n",
              "      <td>1.8</td>\n",
              "      <td>1.8</td>\n",
              "      <td>1.8</td>\n",
              "      <td>1.8</td>\n",
              "      <td>1.8</td>\n",
              "      <td>1.8</td>\n",
              "      <td>1.8</td>\n",
              "      <td>1.8</td>\n",
              "      <td>1.8</td>\n",
              "      <td>1.8</td>\n",
              "      <td>1.8</td>\n",
              "      <td>1.8</td>\n",
              "      <td>1.8</td>\n",
              "      <td>1.8</td>\n",
              "      <td>1.8</td>\n",
              "    </tr>\n",
              "    <tr>\n",
              "      <th>2</th>\n",
              "      <td>0.51</td>\n",
              "      <td>0.41</td>\n",
              "      <td>0.39</td>\n",
              "      <td>0.37</td>\n",
              "      <td>0.35</td>\n",
              "      <td>0.3</td>\n",
              "      <td>0.37</td>\n",
              "      <td>0.47</td>\n",
              "      <td>0.78</td>\n",
              "      <td>0.74</td>\n",
              "      <td>0.59</td>\n",
              "      <td>0.52</td>\n",
              "      <td>0.41</td>\n",
              "      <td>0.4</td>\n",
              "      <td>0.37</td>\n",
              "      <td>0.37</td>\n",
              "      <td>0.47</td>\n",
              "      <td>0.69</td>\n",
              "      <td>0.56</td>\n",
              "      <td>0.45</td>\n",
              "      <td>0.38</td>\n",
              "      <td>0.35</td>\n",
              "      <td>0.36</td>\n",
              "      <td>0.32</td>\n",
              "    </tr>\n",
              "    <tr>\n",
              "      <th>3</th>\n",
              "      <td>0.2</td>\n",
              "      <td>0.15</td>\n",
              "      <td>0.13</td>\n",
              "      <td>0.12</td>\n",
              "      <td>0.11</td>\n",
              "      <td>0.06</td>\n",
              "      <td>0.1</td>\n",
              "      <td>0.13</td>\n",
              "      <td>0.26</td>\n",
              "      <td>0.23</td>\n",
              "      <td>0.2</td>\n",
              "      <td>0.18</td>\n",
              "      <td>0.12</td>\n",
              "      <td>0.11</td>\n",
              "      <td>0.1</td>\n",
              "      <td>0.13</td>\n",
              "      <td>0.14</td>\n",
              "      <td>0.23</td>\n",
              "      <td>0.18</td>\n",
              "      <td>0.12</td>\n",
              "      <td>0.1</td>\n",
              "      <td>0.09</td>\n",
              "      <td>0.1</td>\n",
              "      <td>0.08</td>\n",
              "    </tr>\n",
              "    <tr>\n",
              "      <th>4</th>\n",
              "      <td>0.9</td>\n",
              "      <td>0.6</td>\n",
              "      <td>0.5</td>\n",
              "      <td>1.7</td>\n",
              "      <td>1.8</td>\n",
              "      <td>1.5</td>\n",
              "      <td>1.9</td>\n",
              "      <td>2.2</td>\n",
              "      <td>6.6</td>\n",
              "      <td>7.9</td>\n",
              "      <td>4.2</td>\n",
              "      <td>2.9</td>\n",
              "      <td>3.4</td>\n",
              "      <td>3</td>\n",
              "      <td>2.5</td>\n",
              "      <td>2.2</td>\n",
              "      <td>2.5</td>\n",
              "      <td>2.3</td>\n",
              "      <td>2.1</td>\n",
              "      <td>1.9</td>\n",
              "      <td>1.5</td>\n",
              "      <td>1.6</td>\n",
              "      <td>1.8</td>\n",
              "      <td>1.5</td>\n",
              "    </tr>\n",
              "    <tr>\n",
              "      <th>...</th>\n",
              "      <td>...</td>\n",
              "      <td>...</td>\n",
              "      <td>...</td>\n",
              "      <td>...</td>\n",
              "      <td>...</td>\n",
              "      <td>...</td>\n",
              "      <td>...</td>\n",
              "      <td>...</td>\n",
              "      <td>...</td>\n",
              "      <td>...</td>\n",
              "      <td>...</td>\n",
              "      <td>...</td>\n",
              "      <td>...</td>\n",
              "      <td>...</td>\n",
              "      <td>...</td>\n",
              "      <td>...</td>\n",
              "      <td>...</td>\n",
              "      <td>...</td>\n",
              "      <td>...</td>\n",
              "      <td>...</td>\n",
              "      <td>...</td>\n",
              "      <td>...</td>\n",
              "      <td>...</td>\n",
              "      <td>...</td>\n",
              "    </tr>\n",
              "    <tr>\n",
              "      <th>4315</th>\n",
              "      <td>1.8</td>\n",
              "      <td>1.8</td>\n",
              "      <td>1.8</td>\n",
              "      <td>1.8</td>\n",
              "      <td>1.8</td>\n",
              "      <td>1.7</td>\n",
              "      <td>1.7</td>\n",
              "      <td>1.8</td>\n",
              "      <td>1.8</td>\n",
              "      <td>1.8</td>\n",
              "      <td>1.8</td>\n",
              "      <td>1.8</td>\n",
              "      <td>1.8</td>\n",
              "      <td>1.8</td>\n",
              "      <td>1.8</td>\n",
              "      <td>1.8</td>\n",
              "      <td>2</td>\n",
              "      <td>2.1</td>\n",
              "      <td>2</td>\n",
              "      <td>1.9</td>\n",
              "      <td>1.9</td>\n",
              "      <td>1.9</td>\n",
              "      <td>2</td>\n",
              "      <td>2</td>\n",
              "    </tr>\n",
              "    <tr>\n",
              "      <th>4316</th>\n",
              "      <td>46</td>\n",
              "      <td>13</td>\n",
              "      <td>61</td>\n",
              "      <td>44</td>\n",
              "      <td>55</td>\n",
              "      <td>68</td>\n",
              "      <td>66</td>\n",
              "      <td>70</td>\n",
              "      <td>66</td>\n",
              "      <td>85</td>\n",
              "      <td>67</td>\n",
              "      <td>60</td>\n",
              "      <td>61</td>\n",
              "      <td>60</td>\n",
              "      <td>59</td>\n",
              "      <td>308</td>\n",
              "      <td>327</td>\n",
              "      <td>21</td>\n",
              "      <td>100</td>\n",
              "      <td>109</td>\n",
              "      <td>108</td>\n",
              "      <td>114</td>\n",
              "      <td>108</td>\n",
              "      <td>109</td>\n",
              "    </tr>\n",
              "    <tr>\n",
              "      <th>4317</th>\n",
              "      <td>36</td>\n",
              "      <td>55</td>\n",
              "      <td>72</td>\n",
              "      <td>327</td>\n",
              "      <td>74</td>\n",
              "      <td>52</td>\n",
              "      <td>59</td>\n",
              "      <td>83</td>\n",
              "      <td>106</td>\n",
              "      <td>105</td>\n",
              "      <td>60</td>\n",
              "      <td>62</td>\n",
              "      <td>58</td>\n",
              "      <td>75</td>\n",
              "      <td>18</td>\n",
              "      <td>311</td>\n",
              "      <td>52</td>\n",
              "      <td>54</td>\n",
              "      <td>121</td>\n",
              "      <td>97</td>\n",
              "      <td>107</td>\n",
              "      <td>118</td>\n",
              "      <td>100</td>\n",
              "      <td>105</td>\n",
              "    </tr>\n",
              "    <tr>\n",
              "      <th>4318</th>\n",
              "      <td>1.9</td>\n",
              "      <td>2.4</td>\n",
              "      <td>1.9</td>\n",
              "      <td>2.8</td>\n",
              "      <td>2.3</td>\n",
              "      <td>1.9</td>\n",
              "      <td>2.1</td>\n",
              "      <td>3.7</td>\n",
              "      <td>2.8</td>\n",
              "      <td>3.8</td>\n",
              "      <td>4.1</td>\n",
              "      <td>3.2</td>\n",
              "      <td>3.1</td>\n",
              "      <td>2.8</td>\n",
              "      <td>2.3</td>\n",
              "      <td>2.6</td>\n",
              "      <td>1.3</td>\n",
              "      <td>1</td>\n",
              "      <td>1.5</td>\n",
              "      <td>1</td>\n",
              "      <td>1.7</td>\n",
              "      <td>1.5</td>\n",
              "      <td>2</td>\n",
              "      <td>2</td>\n",
              "    </tr>\n",
              "    <tr>\n",
              "      <th>4319</th>\n",
              "      <td>0.7</td>\n",
              "      <td>0.8</td>\n",
              "      <td>1.8</td>\n",
              "      <td>1</td>\n",
              "      <td>1.9</td>\n",
              "      <td>1.7</td>\n",
              "      <td>2.1</td>\n",
              "      <td>2</td>\n",
              "      <td>2</td>\n",
              "      <td>1.7</td>\n",
              "      <td>3</td>\n",
              "      <td>2.9</td>\n",
              "      <td>2.7</td>\n",
              "      <td>2.8</td>\n",
              "      <td>1.3</td>\n",
              "      <td>1.7</td>\n",
              "      <td>0.7</td>\n",
              "      <td>0.4</td>\n",
              "      <td>1.1</td>\n",
              "      <td>1.4</td>\n",
              "      <td>1.3</td>\n",
              "      <td>1.6</td>\n",
              "      <td>1.8</td>\n",
              "      <td>2</td>\n",
              "    </tr>\n",
              "  </tbody>\n",
              "</table>\n",
              "<p>4320 rows × 24 columns</p>\n",
              "</div>"
            ],
            "text/plain": [
              "         0     1     2     3     4     5  ...    18    19    20    21    22    23\n",
              "0       14    14    14    13    12    12  ...    17    16    15    15    15    15\n",
              "1      1.8   1.8   1.8   1.8   1.8   1.8  ...   1.8   1.8   1.8   1.8   1.8   1.8\n",
              "2     0.51  0.41  0.39  0.37  0.35   0.3  ...  0.56  0.45  0.38  0.35  0.36  0.32\n",
              "3      0.2  0.15  0.13  0.12  0.11  0.06  ...  0.18  0.12   0.1  0.09   0.1  0.08\n",
              "4      0.9   0.6   0.5   1.7   1.8   1.5  ...   2.1   1.9   1.5   1.6   1.8   1.5\n",
              "...    ...   ...   ...   ...   ...   ...  ...   ...   ...   ...   ...   ...   ...\n",
              "4315   1.8   1.8   1.8   1.8   1.8   1.7  ...     2   1.9   1.9   1.9     2     2\n",
              "4316    46    13    61    44    55    68  ...   100   109   108   114   108   109\n",
              "4317    36    55    72   327    74    52  ...   121    97   107   118   100   105\n",
              "4318   1.9   2.4   1.9   2.8   2.3   1.9  ...   1.5     1   1.7   1.5     2     2\n",
              "4319   0.7   0.8   1.8     1   1.9   1.7  ...   1.1   1.4   1.3   1.6   1.8     2\n",
              "\n",
              "[4320 rows x 24 columns]"
            ]
          },
          "metadata": {
            "tags": []
          },
          "execution_count": 3
        }
      ]
    },
    {
      "cell_type": "code",
      "metadata": {
        "id": "Lf4aFcVTW0LR",
        "colab": {
          "base_uri": "https://localhost:8080/",
          "height": 136
        },
        "outputId": "6e9ade04-33ae-42e8-f2ce-92c79bd8f1a1"
      },
      "source": [
        "raw_data"
      ],
      "execution_count": null,
      "outputs": [
        {
          "output_type": "execute_result",
          "data": {
            "text/plain": [
              "array([['14', '14', '14', ..., '15', '15', '15'],\n",
              "       ['1.8', '1.8', '1.8', ..., '1.8', '1.8', '1.8'],\n",
              "       ['0.51', '0.41', '0.39', ..., '0.35', '0.36', '0.32'],\n",
              "       ...,\n",
              "       ['36', '55', '72', ..., '118', '100', '105'],\n",
              "       ['1.9', '2.4', '1.9', ..., '1.5', '2', '2'],\n",
              "       ['0.7', '0.8', '1.8', ..., '1.6', '1.8', '2']], dtype=object)"
            ]
          },
          "metadata": {
            "tags": []
          },
          "execution_count": 4
        }
      ]
    },
    {
      "cell_type": "markdown",
      "metadata": {
        "id": "Oieya9OFXQbc"
      },
      "source": [
        "# **Extracting Features (1)**"
      ]
    },
    {
      "cell_type": "code",
      "metadata": {
        "id": "Hk6K83L9XPkm"
      },
      "source": [
        "month_data = {}\n",
        "for month in range(12): \n",
        "    sample = np.empty([18, 480]) # 每個月一個 numpy\n",
        "    for day in range(20):\n",
        "        sample[:, day * 24 : (day + 1) * 24] = raw_data[18 * (20 * month + day) : 18 * (20 * month + day + 1), :] # 將實際資料填入\n",
        "    month_data[month] = sample"
      ],
      "execution_count": null,
      "outputs": []
    },
    {
      "cell_type": "markdown",
      "metadata": {
        "id": "6cWNe6Egh-So"
      },
      "source": [
        "# **EDA**"
      ]
    },
    {
      "cell_type": "code",
      "metadata": {
        "id": "RFuQSdnefMAB"
      },
      "source": [
        "data = []\n",
        "for i in range(len(month_data[0][0])-9):\n",
        "  data.append(month_data[0][0][i])\n",
        "data1 = []\n",
        "for i in range(len(month_data[0][1])-9):\n",
        "  data1.append(month_data[0][1][i])\n",
        "data2 = []\n",
        "for i in range(len(month_data[0][2])-9):\n",
        "  data2.append(month_data[0][2][i])\n",
        "data3 = []\n",
        "for i in range(len(month_data[0][3])-9):\n",
        "  data3.append(month_data[0][3][i])\n",
        "data4 = []\n",
        "for i in range(len(month_data[0][4])-9):\n",
        "  data4.append(month_data[0][4][i])\n",
        "data5 = []\n",
        "for i in range(len(month_data[0][5])-9):\n",
        "  data5.append(month_data[0][5][i])\n",
        "data6 = []\n",
        "for i in range(len(month_data[0][6])-9):\n",
        "  data6.append(month_data[0][6][i])\n",
        "data7 = []\n",
        "for i in range(len(month_data[0][7])-9):\n",
        "  data7.append(month_data[0][7][i])\n",
        "data8 = []\n",
        "for i in range(len(month_data[0][8])-9):\n",
        "  data8.append(month_data[0][8][i])\n",
        "data9 = []\n",
        "for i in range(len(month_data[0][9])-9):\n",
        "  data9.append(month_data[0][9][i])\n",
        "data10 = []\n",
        "for i in range(len(month_data[0][10])-9):\n",
        "  data10.append(month_data[0][10][i])\n",
        "data11 = []\n",
        "for i in range(len(month_data[0][11])-9):\n",
        "  data11.append(month_data[0][11][i])\n",
        "data12 = []\n",
        "for i in range(len(month_data[0][12])-9):\n",
        "  data12.append(month_data[0][12][i])\n",
        "data13 = []\n",
        "for i in range(len(month_data[0][13])-9):\n",
        "  data13.append(month_data[0][13][i])\n",
        "data14 = []\n",
        "for i in range(len(month_data[0][14])-9):\n",
        "  data14.append(month_data[0][14][i])\n",
        "data15 = []\n",
        "for i in range(len(month_data[0][15])-9):\n",
        "  data15.append(month_data[0][15][i])\n",
        "data16 = []\n",
        "for i in range(len(month_data[0][16])-9):\n",
        "  data16.append(month_data[0][16][i])\n",
        "data17 = []\n",
        "for i in range(len(month_data[0][17])-9):\n",
        "  data17.append(month_data[0][17][i])"
      ],
      "execution_count": null,
      "outputs": []
    },
    {
      "cell_type": "code",
      "metadata": {
        "id": "oauDR2o5gJqk"
      },
      "source": [
        "pm25 = []\n",
        "for i in range(9, len(month_data[0][9])):\n",
        "  pm25.append(month_data[0][9][i])"
      ],
      "execution_count": null,
      "outputs": []
    },
    {
      "cell_type": "code",
      "metadata": {
        "id": "Y9EmuwlygnZZ",
        "colab": {
          "base_uri": "https://localhost:8080/",
          "height": 1000
        },
        "outputId": "fb53878d-bab1-4eab-e291-53341601fd62"
      },
      "source": [
        "import matplotlib.pyplot as plt\n",
        "\n",
        "plt.scatter(data,pm25)\n",
        "plt.show()\n",
        "print(0)\n",
        "plt.scatter(data1,pm25)\n",
        "plt.show()\n",
        "print(1)\n",
        "plt.scatter(data2,pm25)\n",
        "plt.show()\n",
        "print(2)\n",
        "plt.scatter(data3,pm25)\n",
        "plt.show()\n",
        "print(3)\n",
        "plt.scatter(data4,pm25)\n",
        "plt.show()\n",
        "print(4)\n",
        "plt.scatter(data5,pm25)\n",
        "plt.show()\n",
        "print(5)\n",
        "plt.scatter(data6,pm25)\n",
        "plt.show()\n",
        "print(6)\n",
        "plt.scatter(data7,pm25)\n",
        "plt.show()\n",
        "print(7)\n",
        "plt.scatter(data8,pm25)\n",
        "plt.show()\n",
        "print(8)\n",
        "plt.scatter(data9,pm25)\n",
        "plt.show()\n",
        "print(9)\n",
        "plt.scatter(data10,pm25)\n",
        "plt.show()\n",
        "print(10)\n",
        "plt.scatter(data11,pm25)\n",
        "plt.show()\n",
        "print(11)\n",
        "plt.scatter(data12,pm25)\n",
        "plt.show()\n",
        "print(12)\n",
        "plt.scatter(data13,pm25)\n",
        "plt.show()\n",
        "print(13)\n",
        "plt.scatter(data14,pm25)\n",
        "plt.show()\n",
        "print(14)\n",
        "plt.scatter(data15,pm25)\n",
        "plt.show()\n",
        "print(15)\n",
        "plt.scatter(data16,pm25)\n",
        "plt.show()\n",
        "print(16)\n",
        "plt.scatter(data17,pm25)\n",
        "plt.show()\n",
        "print(17)\n",
        "# 2, 7, 8, 9, 11, 12\n",
        "# 0, 2, 4, 5, 6, 7, 8, 9, 11, 12, 16, 17"
      ],
      "execution_count": null,
      "outputs": [
        {
          "output_type": "display_data",
          "data": {
            "image/png": "[encoded data removed]",
            "text/plain": [
              "<Figure size 432x288 with 1 Axes>"
            ]
          },
          "metadata": {
            "tags": []
          }
        },
        {
          "output_type": "stream",
          "text": [
            "0\n"
          ],
          "name": "stdout"
        },
        {
          "output_type": "display_data",
          "data": {
            "image/png": "[encoded data removed]",
            "text/plain": [
              "<Figure size 432x288 with 1 Axes>"
            ]
          },
          "metadata": {
            "tags": []
          }
        },
        {
          "output_type": "stream",
          "text": [
            "1\n"
          ],
          "name": "stdout"
        },
        {
          "output_type": "display_data",
          "data": {
            "image/png": "[encoded data removed]",
            "text/plain": [
              "<Figure size 432x288 with 1 Axes>"
            ]
          },
          "metadata": {
            "tags": []
          }
        },
        {
          "output_type": "stream",
          "text": [
            "2\n"
          ],
          "name": "stdout"
        },
        {
          "output_type": "display_data",
          "data": {
            "image/png": "[encoded data removed]",
            "text/plain": [
              "<Figure size 432x288 with 1 Axes>"
            ]
          },
          "metadata": {
            "tags": []
          }
        },
        {
          "output_type": "stream",
          "text": [
            "3\n"
          ],
          "name": "stdout"
        },
        {
          "output_type": "display_data",
          "data": {
            "image/png": "[encoded data removed]",
            "text/plain": [
              "<Figure size 432x288 with 1 Axes>"
            ]
          },
          "metadata": {
            "tags": []
          }
        },
        {
          "output_type": "stream",
          "text": [
            "4\n"
          ],
          "name": "stdout"
        },
        {
          "output_type": "display_data",
          "data": {
            "image/png": "[encoded data removed]",
            "text/plain": [
              "<Figure size 432x288 with 1 Axes>"
            ]
          },
          "metadata": {
            "tags": []
          }
        },
        {
          "output_type": "stream",
          "text": [
            "5\n"
          ],
          "name": "stdout"
        },
        {
          "output_type": "display_data",
          "data": {
            "image/png": "[encoded data removed]",
            "text/plain": [
              "<Figure size 432x288 with 1 Axes>"
            ]
          },
          "metadata": {
            "tags": []
          }
        },
        {
          "output_type": "stream",
          "text": [
            "6\n"
          ],
          "name": "stdout"
        },
        {
          "output_type": "display_data",
          "data": {
            "image/png": "[encoded data removed]",
            "text/plain": [
              "<Figure size 432x288 with 1 Axes>"
            ]
          },
          "metadata": {
            "tags": []
          }
        },
        {
          "output_type": "stream",
          "text": [
            "7\n"
          ],
          "name": "stdout"
        },
        {
          "output_type": "display_data",
          "data": {
            "image/png": "[encoded data removed]",
            "text/plain": [
              "<Figure size 432x288 with 1 Axes>"
            ]
          },
          "metadata": {
            "tags": []
          }
        },
        {
          "output_type": "stream",
          "text": [
            "8\n"
          ],
          "name": "stdout"
        },
        {
          "output_type": "display_data",
          "data": {
            "image/png": "[encoded data removed]",
            "text/plain": [
              "<Figure size 432x288 with 1 Axes>"
            ]
          },
          "metadata": {
            "tags": []
          }
        },
        {
          "output_type": "stream",
          "text": [
            "9\n"
          ],
          "name": "stdout"
        },
        {
          "output_type": "display_data",
          "data": {
            "image/png": "[encoded data removed]",
            "text/plain": [
              "<Figure size 432x288 with 1 Axes>"
            ]
          },
          "metadata": {
            "tags": []
          }
        },
        {
          "output_type": "stream",
          "text": [
            "10\n"
          ],
          "name": "stdout"
        },
        {
          "output_type": "display_data",
          "data": {
            "image/png": "[encoded data removed]",
            "text/plain": [
              "<Figure size 432x288 with 1 Axes>"
            ]
          },
          "metadata": {
            "tags": []
          }
        },
        {
          "output_type": "stream",
          "text": [
            "11\n"
          ],
          "name": "stdout"
        },
        {
          "output_type": "display_data",
          "data": {
            "image/png": "[encoded data removed]",
            "text/plain": [
              "<Figure size 432x288 with 1 Axes>"
            ]
          },
          "metadata": {
            "tags": []
          }
        },
        {
          "output_type": "stream",
          "text": [
            "12\n"
          ],
          "name": "stdout"
        },
        {
          "output_type": "display_data",
          "data": {
            "image/png": "[encoded data removed]",
            "text/plain": [
              "<Figure size 432x288 with 1 Axes>"
            ]
          },
          "metadata": {
            "tags": []
          }
        },
        {
          "output_type": "stream",
          "text": [
            "13\n"
          ],
          "name": "stdout"
        },
        {
          "output_type": "display_data",
          "data": {
            "image/png": "[encoded data removed]",
            "text/plain": [
              "<Figure size 432x288 with 1 Axes>"
            ]
          },
          "metadata": {
            "tags": []
          }
        },
        {
          "output_type": "stream",
          "text": [
            "14\n"
          ],
          "name": "stdout"
        },
        {
          "output_type": "display_data",
          "data": {
            "image/png": "[encoded data removed]",
            "text/plain": [
              "<Figure size 432x288 with 1 Axes>"
            ]
          },
          "metadata": {
            "tags": []
          }
        },
        {
          "output_type": "stream",
          "text": [
            "15\n"
          ],
          "name": "stdout"
        },
        {
          "output_type": "display_data",
          "data": {
            "image/png": "[encoded data removed]",
            "text/plain": [
              "<Figure size 432x288 with 1 Axes>"
            ]
          },
          "metadata": {
            "tags": []
          }
        },
        {
          "output_type": "stream",
          "text": [
            "16\n"
          ],
          "name": "stdout"
        },
        {
          "output_type": "display_data",
          "data": {
            "image/png": "[encoded data removed]",
            "text/plain": [
              "<Figure size 432x288 with 1 Axes>"
            ]
          },
          "metadata": {
            "tags": []
          }
        },
        {
          "output_type": "stream",
          "text": [
            "17\n"
          ],
          "name": "stdout"
        }
      ]
    },
    {
      "cell_type": "markdown",
      "metadata": {
        "id": "WcPSgaShaysF"
      },
      "source": [
        "# **Extracting Features (2)**"
      ]
    },
    {
      "cell_type": "code",
      "metadata": {
        "id": "JHg8-u2Lawmt",
        "colab": {
          "base_uri": "https://localhost:8080/",
          "height": 255
        },
        "outputId": "d7e4f2f1-c2a3-4eed-8dc9-9118f0cfe236"
      },
      "source": [
        "x = np.empty([12 * 471, 6 * 9], dtype = float) # 每個月471筆資料，每筆資料9個小時＊18個features（預測第10小時，則前9小時各自的18個features都是變數）\n",
        "y = np.empty([12 * 471, 1], dtype = float) # 第十個小時的 pm2.5\n",
        "for month in range(12):\n",
        "    for day in range(20):\n",
        "        for hour in range(24):\n",
        "            if day == 19 and hour > 14: # 第471-480小時\n",
        "                continue\n",
        "            x[month * 471 + day * 24 + hour, :] = month_data[month][[2, 7, 8, 9, 11, 12],day * 24 + hour : day * 24 + hour + 9].reshape(1, -1) # vector dim:18*9 (9 9 9 9 9 9 9 9 9 9 9 9 9 9 9 9 9 9) 轉換成一列\n",
        "            y[month * 471 + day * 24 + hour, 0] = month_data[month][9, day * 24 + hour + 9] #value\n",
        "print(x)\n",
        "print(y)"
      ],
      "execution_count": null,
      "outputs": [
        {
          "output_type": "stream",
          "text": [
            "[[ 0.51  0.41  0.39 ...  1.5   1.6   5.1 ]\n",
            " [ 0.41  0.39  0.37 ...  1.6   5.1  15.  ]\n",
            " [ 0.39  0.37  0.35 ...  5.1  15.    4.5 ]\n",
            " ...\n",
            " [ 0.24  0.23  0.24 ...  3.4   2.6   2.2 ]\n",
            " [ 0.23  0.24  0.27 ...  2.6   2.2   2.3 ]\n",
            " [ 0.24  0.27  0.31 ...  2.2   2.3   2.3 ]]\n",
            "[[30.]\n",
            " [41.]\n",
            " [44.]\n",
            " ...\n",
            " [17.]\n",
            " [24.]\n",
            " [29.]]\n"
          ],
          "name": "stdout"
        }
      ]
    },
    {
      "cell_type": "markdown",
      "metadata": {
        "id": "xupBNJo-E_eW"
      },
      "source": [
        "# **Normalizing**\n"
      ]
    },
    {
      "cell_type": "code",
      "metadata": {
        "id": "vd1tg_qYaw1g",
        "colab": {
          "base_uri": "https://localhost:8080/",
          "height": 238
        },
        "outputId": "09e0514d-ff88-46fb-8719-97595fdd1f61"
      },
      "source": [
        "mean_x = np.mean(x, axis = 0) # 12 * 9  \n",
        "std_x = np.std(x, axis = 0) # 12 * 9 \n",
        "for i in range(len(x)): # 12 * 471\n",
        "    for j in range(len(x[0])): # 12 * 9 \n",
        "        if std_x[j] != 0:\n",
        "            x[i][j] = (x[i][j] - mean_x[j]) / std_x[j]\n",
        "x"
      ],
      "execution_count": null,
      "outputs": [
        {
          "output_type": "execute_result",
          "data": {
            "text/plain": [
              "array([[ 3.70906431e-01,  6.45970929e-02,  3.19053318e-03, ...,\n",
              "        -6.96240991e-01, -6.41967621e-01,  1.27304467e+00],\n",
              "       [ 6.42861080e-02,  3.26620611e-03, -5.81458393e-02, ...,\n",
              "        -6.41495591e-01,  1.27284247e+00,  6.69045298e+00],\n",
              "       [ 2.96204346e-03, -5.80646807e-02, -1.19482212e-01, ...,\n",
              "         1.27459340e+00,  6.68901958e+00,  9.44716898e-01],\n",
              "       ...,\n",
              "       [-4.56968441e-01, -4.87380888e-01, -4.56832261e-01, ...,\n",
              "         3.43921605e-01, -9.48790238e-02, -3.13872912e-01],\n",
              "       [-4.87630473e-01, -4.56715445e-01, -3.64827702e-01, ...,\n",
              "        -9.40415935e-02, -3.13714463e-01, -2.59151616e-01],\n",
              "       [-4.56968441e-01, -3.64719115e-01, -2.42154957e-01, ...,\n",
              "        -3.13023193e-01, -2.59005603e-01, -2.59151616e-01]])"
            ]
          },
          "metadata": {
            "tags": []
          },
          "execution_count": 59
        }
      ]
    },
    {
      "cell_type": "markdown",
      "metadata": {
        "id": "r4H5FgCSNdYp"
      },
      "source": [
        "# **Spliting Training & Testing Sets**"
      ]
    },
    {
      "cell_type": "code",
      "metadata": {
        "id": "OYSIkKovFKPS",
        "colab": {
          "base_uri": "https://localhost:8080/",
          "height": 765
        },
        "outputId": "98065e42-c188-4083-8d5f-9ec1dcd39798"
      },
      "source": [
        "import math\n",
        "x_train_set = x[: math.floor(len(x) * 0.8), :] # 第1到第4521筆資料\n",
        "y_train_set = y[: math.floor(len(y) * 0.8), :]\n",
        "x_validation = x[math.floor(len(x) * 0.8): , :] # 第4522到第5652筆資料\n",
        "y_validation = y[math.floor(len(y) * 0.8): , :]\n",
        "print(x_train_set)\n",
        "print(y_train_set)\n",
        "print(x_validation)\n",
        "print(y_validation)\n",
        "print(len(x_train_set))\n",
        "print(len(y_train_set))\n",
        "print(len(x_validation))\n",
        "print(len(y_validation))"
      ],
      "execution_count": null,
      "outputs": [
        {
          "output_type": "stream",
          "text": [
            "[[ 3.70906431e-01  6.45970929e-02  3.19053318e-03 ... -6.96240991e-01\n",
            "  -6.41967621e-01  1.27304467e+00]\n",
            " [ 6.42861080e-02  3.26620611e-03 -5.81458393e-02 ... -6.41495591e-01\n",
            "   1.27284247e+00  6.69045298e+00]\n",
            " [ 2.96204346e-03 -5.80646807e-02 -1.19482212e-01 ...  1.27459340e+00\n",
            "   6.68901958e+00  9.44716898e-01]\n",
            " ...\n",
            " [-6.10278602e-01 -4.26050001e-01 -1.80818584e-01 ... -6.96240991e-01\n",
            "  -8.06094200e-01 -8.06364576e-01]\n",
            " [-4.26306408e-01 -1.80726454e-01 -1.80818584e-01 ... -8.05731790e-01\n",
            "  -8.06094200e-01 -5.87479392e-01]\n",
            " [-1.81010150e-01 -1.80726454e-01  1.87199651e-01 ... -8.05731790e-01\n",
            "  -5.87258761e-01 -7.51643280e-01]]\n",
            "[[30.]\n",
            " [41.]\n",
            " [44.]\n",
            " ...\n",
            " [ 7.]\n",
            " [ 5.]\n",
            " [14.]]\n",
            "[[-0.18101015  0.18725887 -0.57950501 ... -0.58675019 -0.75138534\n",
            "  -0.75164328]\n",
            " [ 0.18693424 -0.57937722 -0.79418231 ... -0.75098639 -0.75138534\n",
            "  -0.69692198]\n",
            " [-0.57961657 -0.79403532 -0.73284594 ... -0.75098639 -0.69667648\n",
            "  -0.58747939]\n",
            " ...\n",
            " [-0.45696844 -0.48738089 -0.45683226 ...  0.3439216  -0.09487902\n",
            "  -0.31387291]\n",
            " [-0.48763047 -0.45671544 -0.3648277  ... -0.09404159 -0.31371446\n",
            "  -0.25915162]\n",
            " [-0.45696844 -0.36471911 -0.24215496 ... -0.31302319 -0.2590056\n",
            "  -0.25915162]]\n",
            "[[13.]\n",
            " [24.]\n",
            " [22.]\n",
            " ...\n",
            " [17.]\n",
            " [24.]\n",
            " [29.]]\n",
            "4521\n",
            "4521\n",
            "1131\n",
            "1131\n"
          ],
          "name": "stdout"
        }
      ]
    },
    {
      "cell_type": "code",
      "metadata": {
        "id": "N3CFeQVSj4lx",
        "colab": {
          "base_uri": "https://localhost:8080/",
          "height": 34
        },
        "outputId": "1335bcf6-e8eb-4859-ce98-9d29e5e851a0"
      },
      "source": [
        "x_train_set.shape"
      ],
      "execution_count": null,
      "outputs": [
        {
          "output_type": "execute_result",
          "data": {
            "text/plain": [
              "(4521, 54)"
            ]
          },
          "metadata": {
            "tags": []
          },
          "execution_count": 61
        }
      ]
    },
    {
      "cell_type": "code",
      "metadata": {
        "id": "DtPbj-R0kY59",
        "colab": {
          "base_uri": "https://localhost:8080/",
          "height": 34
        },
        "outputId": "1edf8bc6-5084-4538-e15b-307a1a174b8f"
      },
      "source": [
        "np.ones(shape=y_train_set.shape).shape"
      ],
      "execution_count": null,
      "outputs": [
        {
          "output_type": "execute_result",
          "data": {
            "text/plain": [
              "(4521, 1)"
            ]
          },
          "metadata": {
            "tags": []
          },
          "execution_count": 62
        }
      ]
    },
    {
      "cell_type": "code",
      "metadata": {
        "id": "irw9nnFskjoE"
      },
      "source": [
        "xxx = np.concatenate((np.ones(shape=y_train_set.shape), x_train_set), axis = 1).astype(float)"
      ],
      "execution_count": null,
      "outputs": []
    },
    {
      "cell_type": "code",
      "metadata": {
        "id": "Hc6V8FJelI9S"
      },
      "source": [
        "from numpy.linalg import inv\n",
        "coeffs = inv(xxx.transpose().dot(xxx)).dot(xxx.transpose()).dot(y_train_set)"
      ],
      "execution_count": null,
      "outputs": []
    },
    {
      "cell_type": "code",
      "metadata": {
        "id": "okRQn2-blTzN",
        "colab": {
          "base_uri": "https://localhost:8080/",
          "height": 34
        },
        "outputId": "d067fe97-3c95-411a-c7f9-95a7b566c2c2"
      },
      "source": [
        "coeffs.shape"
      ],
      "execution_count": null,
      "outputs": [
        {
          "output_type": "execute_result",
          "data": {
            "text/plain": [
              "(55, 1)"
            ]
          },
          "metadata": {
            "tags": []
          },
          "execution_count": 65
        }
      ]
    },
    {
      "cell_type": "markdown",
      "metadata": {
        "id": "Akro4Vm-EC08"
      },
      "source": [
        "# **Training For Validation**"
      ]
    },
    {
      "cell_type": "code",
      "metadata": {
        "id": "EuEaWKY8EA-x",
        "colab": {
          "base_uri": "https://localhost:8080/",
          "height": 1000
        },
        "outputId": "01b5d2f0-f05f-43a7-d0e1-0f9f667c88a3"
      },
      "source": [
        "# Adam實作 \n",
        "dim = 6 * 9 + 1 # 162個變數，加上常數項 1 * weight\n",
        "w0 = coeffs\n",
        "x_train_set0 = np.concatenate((np.ones([4521, 1]), x_train_set), axis = 1).astype(float)\n",
        "x_validation0 = np.concatenate((np.ones([1131, 1]), x_validation), axis = 1).astype(float)\n",
        "iterationlist0 = []\n",
        "losslist0 = []\n",
        "learning_rate = 0.001\n",
        "iter_time = 10000 \n",
        "s = np.zeros([dim, 1])\n",
        "r = np.zeros([dim, 1])\n",
        "eps = 0.0000000001\n",
        "for t in range(iter_time):\n",
        "    loss = np.sqrt(np.sum(np.power(np.dot(x_train_set0, w0) - y_train_set, 2))/471/12)# rmse\n",
        "    loss2 = np.sqrt(np.sum(np.power(np.dot(x_validation0, w0) - y_validation, 2))/471/12)\n",
        "    # np.dot()可使矩陣相乘、np.power(,2))可使矩陣平方\n",
        "    if(t%100==0):\n",
        "        print(str(t) + \":\" + str(loss))\n",
        "        print(\"!\" + str(t) + \":\" + str(loss2))\n",
        "        iterationlist0.append(t)\n",
        "        losslist0.append(loss) \n",
        "    gradient = 2 * np.dot(x_train_set0.transpose(), np.dot(x_train_set0, w0) - y_train_set) # dim*1\n",
        "    s = 0.9 * s + 0.1 * gradient\n",
        "    r = 0.999 * r + 0.001 * (gradient ** 2) \n",
        "\n",
        "    s1 = s / (1 - 0.9 ** (t+1))\n",
        "    r1 = r / (1 - 0.999 ** (t+1))\n",
        "\n",
        "    w0 = w0 - (learning_rate * s1 / np.sqrt(r1 + eps)) \n",
        "np.save('weight0.npy', w0)\n",
        "w0"
      ],
      "execution_count": null,
      "outputs": [
        {
          "output_type": "stream",
          "text": [
            "0:5.26482852091721\n",
            "!0:2.527510347329226\n",
            "100:5.264828520930708\n",
            "!100:2.5275100480241974\n",
            "200:5.264828520917234\n",
            "!200:2.5275103347397723\n",
            "300:5.26482852091721\n",
            "!300:2.527510347426468\n",
            "400:5.26482852091721\n",
            "!400:2.5275103473281577\n",
            "500:5.26482852091721\n",
            "!500:2.527510347329065\n",
            "600:5.26482852091721\n",
            "!600:2.5275103473291787\n",
            "700:5.26482852091721\n",
            "!700:2.527510347329214\n",
            "800:5.26482852091721\n",
            "!800:2.527510347329225\n",
            "900:5.26482852091721\n",
            "!900:2.5275103473292275\n",
            "1000:5.264828520917209\n",
            "!1000:2.5275103473292275\n",
            "1100:5.26482852091721\n",
            "!1100:2.5275103473292275\n",
            "1200:5.26482852091721\n",
            "!1200:2.5275103473292284\n",
            "1300:5.26482852091721\n",
            "!1300:2.5275103473292284\n",
            "1400:5.26482852091721\n",
            "!1400:2.5275103473292284\n",
            "1500:5.26482852091721\n",
            "!1500:2.527510347329228\n",
            "1600:5.26482852091721\n",
            "!1600:2.5275103473292284\n",
            "1700:5.26482852091721\n",
            "!1700:2.5275103473292444\n",
            "1800:5.264828521804256\n",
            "!1800:2.5275079468627633\n",
            "1900:5.2648285209179395\n",
            "!1900:2.5275104162086723\n",
            "2000:5.26482852091721\n",
            "!2000:2.5275103477012872\n",
            "2100:5.26482852091721\n",
            "!2100:2.527510347328336\n",
            "2200:5.26482852091721\n",
            "!2200:2.52751034732924\n",
            "2300:5.26482852091721\n",
            "!2300:2.5275103473292284\n",
            "2400:5.26482852091721\n",
            "!2400:2.5275103473292284\n",
            "2500:5.26482852091721\n",
            "!2500:2.5275103473292284\n",
            "2600:5.26482852091721\n",
            "!2600:2.5275103473292284\n",
            "2700:5.2648285209188375\n",
            "!2700:2.527510244463362\n",
            "2800:5.264828521819657\n",
            "!2800:2.527512770698913\n",
            "2900:5.264828520917232\n",
            "!2900:2.527510359359073\n",
            "3000:5.26482852091721\n",
            "!3000:2.5275103473208995\n",
            "3100:5.26482852091721\n",
            "!3100:2.5275103473294136\n",
            "3200:5.26482852091721\n",
            "!3200:2.52751034732923\n",
            "3300:5.264828520917209\n",
            "!3300:2.527510347329228\n",
            "3400:5.264828520917209\n",
            "!3400:2.527510347329228\n",
            "3500:5.26482852091721\n",
            "!3500:2.5275103473292284\n",
            "3600:5.26482852091721\n",
            "!3600:2.5275103473292284\n",
            "3700:5.264828520917443\n",
            "!3700:2.5275103084358213\n",
            "3800:5.264828521820785\n",
            "!3800:2.5275079232444306\n",
            "3900:5.264828520917214\n",
            "!3900:2.527510342297877\n",
            "4000:5.26482852091721\n",
            "!4000:2.527510347260712\n",
            "4100:5.264828520917209\n",
            "!4100:2.5275103473290708\n",
            "4200:5.26482852091721\n",
            "!4200:2.5275103473292257\n",
            "4300:5.26482852091721\n",
            "!4300:2.5275103473292284\n",
            "4400:5.264828520917209\n",
            "!4400:2.5275103473292284\n",
            "4500:5.26482852091721\n",
            "!4500:2.5275103473292284\n",
            "4600:5.26482852091721\n",
            "!4600:2.5275103473292284\n",
            "4700:5.26482852091721\n",
            "!4700:2.5275103473292284\n",
            "4800:5.26482852091721\n",
            "!4800:2.5275103473292284\n",
            "4900:5.264828845143216\n",
            "!4900:2.5275564178689294\n",
            "5000:5.264828520922954\n",
            "!5000:2.527510154031782\n",
            "5100:5.26482852091721\n",
            "!5100:2.527510348581536\n",
            "5200:5.26482852091721\n",
            "!5200:2.5275103473344367\n",
            "5300:5.264828520917209\n",
            "!5300:2.527510347329226\n",
            "5400:5.26482852091721\n",
            "!5400:2.5275103473292284\n",
            "5500:5.26482852091721\n",
            "!5500:2.5275103473292284\n",
            "5600:5.26482852091721\n",
            "!5600:2.5275103473292284\n",
            "5700:5.26482852091721\n",
            "!5700:2.5275103473292284\n",
            "5800:5.26482852091721\n",
            "!5800:2.5275103473292284\n",
            "5900:5.264829264388909\n",
            "!5900:2.527580223690933\n",
            "6000:5.2648285209773915\n",
            "!6000:2.5275097216541993\n",
            "6100:5.264828520917212\n",
            "!6100:2.5275103508015984\n",
            "6200:5.264828520917209\n",
            "!6200:2.5275103473399714\n",
            "6300:5.26482852091721\n",
            "!6300:2.527510347329326\n",
            "6400:5.26482852091721\n",
            "!6400:2.5275103473292275\n",
            "6500:5.26482852091721\n",
            "!6500:2.5275103473292284\n",
            "6600:5.26482852091721\n",
            "!6600:2.5275103473292284\n",
            "6700:5.26482852091721\n",
            "!6700:2.5275103473292284\n",
            "6800:5.26482852091721\n",
            "!6800:2.5275103473292284\n",
            "6900:5.26482852091721\n",
            "!6900:2.5275103473292284\n",
            "7000:5.264828520917209\n",
            "!7000:2.527510347316945\n",
            "7100:5.264828521394712\n",
            "!7100:2.527508585058167\n",
            "7200:5.264828520917324\n",
            "!7200:2.5275103746038767\n",
            "7300:5.264828520917209\n",
            "!7300:2.527510347310093\n",
            "7400:5.264828520917209\n",
            "!7400:2.5275103473303946\n",
            "7500:5.26482852091721\n",
            "!7500:2.5275103473292275\n",
            "7600:5.264828520917209\n",
            "!7600:2.5275103473292284\n",
            "7700:5.264828520917209\n",
            "!7700:2.5275103473292284\n",
            "7800:5.26482852091721\n",
            "!7800:2.5275103473292284\n",
            "7900:5.264828520917209\n",
            "!7900:2.5275103473292284\n",
            "8000:5.26482852091721\n",
            "!8000:2.5275103473292284\n",
            "8100:5.264831961812508\n",
            "!8100:2.527661492377871\n",
            "8200:5.264828521117634\n",
            "!8200:2.5275092055614015\n",
            "8300:5.2648285209172165\n",
            "!8300:2.527510340895919\n",
            "8400:5.264828520917209\n",
            "!8400:2.5275103473203053\n",
            "8500:5.26482852091721\n",
            "!8500:2.527510347329169\n",
            "8600:5.264828520917209\n",
            "!8600:2.5275103473292275\n",
            "8700:5.26482852091721\n",
            "!8700:2.5275103473292284\n",
            "8800:5.26482852091721\n",
            "!8800:2.5275103473292284\n",
            "8900:5.26482852091721\n",
            "!8900:2.5275103473292284\n",
            "9000:5.26482852091721\n",
            "!9000:2.5275103473292284\n",
            "9100:5.264828520917209\n",
            "!9100:2.5275103473292284\n",
            "9200:5.26482852091723\n",
            "!9200:2.527510335834204\n",
            "9300:5.264828520920857\n",
            "!9300:2.527510193298021\n",
            "9400:5.264828520917253\n",
            "!9400:2.527510330598026\n",
            "9500:5.26482852091721\n",
            "!9500:2.5275103474149936\n",
            "9600:5.26482852091721\n",
            "!9600:2.5275103473296823\n",
            "9700:5.26482852091721\n",
            "!9700:2.527510347329231\n",
            "9800:5.26482852091721\n",
            "!9800:2.5275103473292284\n",
            "9900:5.26482852091721\n",
            "!9900:2.5275103473292284\n"
          ],
          "name": "stdout"
        },
        {
          "output_type": "execute_result",
          "data": {
            "text/plain": [
              "array([[ 2.14433821e+01],\n",
              "       [ 1.38188992e-01],\n",
              "       [-4.16460170e-02],\n",
              "       [ 3.45429383e-03],\n",
              "       [-2.30148603e-01],\n",
              "       [ 2.01118617e-01],\n",
              "       [-1.07814907e-01],\n",
              "       [-1.57818071e-01],\n",
              "       [ 1.59863083e-01],\n",
              "       [ 5.08128915e-01],\n",
              "       [-2.89954947e-01],\n",
              "       [ 6.41389770e-01],\n",
              "       [-3.46957375e-01],\n",
              "       [-1.44573329e-01],\n",
              "       [-9.34230986e-02],\n",
              "       [-3.55626567e-01],\n",
              "       [-3.18383108e-01],\n",
              "       [-4.96414346e-02],\n",
              "       [ 8.76797837e-01],\n",
              "       [ 1.43716516e-01],\n",
              "       [ 2.29707667e-01],\n",
              "       [-1.02997659e+00],\n",
              "       [ 1.21846301e+00],\n",
              "       [ 1.89447151e-01],\n",
              "       [-1.38432956e+00],\n",
              "       [ 9.25725823e-01],\n",
              "       [ 1.58760614e-01],\n",
              "       [ 1.18616960e+00],\n",
              "       [-5.83757031e-01],\n",
              "       [-4.32602753e-02],\n",
              "       [ 3.75570496e+00],\n",
              "       [-4.19581398e+00],\n",
              "       [-4.77519135e-01],\n",
              "       [ 8.17427191e+00],\n",
              "       [-9.21925085e+00],\n",
              "       [ 6.78779862e-01],\n",
              "       [ 1.58525412e+01],\n",
              "       [ 1.04781658e-01],\n",
              "       [ 2.83295059e-02],\n",
              "       [ 1.80083001e-01],\n",
              "       [-2.14276810e-01],\n",
              "       [-4.25737459e-01],\n",
              "       [ 7.63799540e-01],\n",
              "       [-1.24815455e+00],\n",
              "       [ 6.16509834e-01],\n",
              "       [-2.88845152e-01],\n",
              "       [-6.84661848e-01],\n",
              "       [ 5.52728816e-01],\n",
              "       [-1.43225618e-01],\n",
              "       [-1.42708989e-01],\n",
              "       [-9.45509490e-02],\n",
              "       [ 5.30673662e-02],\n",
              "       [-3.91989905e-01],\n",
              "       [ 1.68069371e-01],\n",
              "       [ 7.21918644e-01]])"
            ]
          },
          "metadata": {
            "tags": []
          },
          "execution_count": 66
        }
      ]
    },
    {
      "cell_type": "code",
      "metadata": {
        "id": "GWC63AjaF01O"
      },
      "source": [
        "x_validation0 = np.concatenate((np.ones([1131, 1]), x_validation), axis = 1).astype(float)\n",
        "loss = np.sqrt(np.sum(np.power(np.dot(x_validation0, w0) - y_validation, 2))/471/12)"
      ],
      "execution_count": null,
      "outputs": []
    },
    {
      "cell_type": "code",
      "metadata": {
        "id": "M5pBK-5fV6KA",
        "colab": {
          "base_uri": "https://localhost:8080/",
          "height": 34
        },
        "outputId": "2acf068c-ced5-483a-9d99-34614ce0a88c"
      },
      "source": [
        "loss"
      ],
      "execution_count": null,
      "outputs": [
        {
          "output_type": "execute_result",
          "data": {
            "text/plain": [
              "2.5376428590778692"
            ]
          },
          "metadata": {
            "tags": []
          },
          "execution_count": 14
        }
      ]
    },
    {
      "cell_type": "code",
      "metadata": {
        "id": "5kyG4PXvHmJ8",
        "colab": {
          "base_uri": "https://localhost:8080/",
          "height": 34
        },
        "outputId": "f91c889d-699f-499e-b193-36d2725014d3"
      },
      "source": [
        "loss"
      ],
      "execution_count": null,
      "outputs": [
        {
          "output_type": "execute_result",
          "data": {
            "text/plain": [
              "2.5357227488920273"
            ]
          },
          "metadata": {
            "tags": []
          },
          "execution_count": 35
        }
      ]
    },
    {
      "cell_type": "markdown",
      "metadata": {
        "id": "_X4O8fzAT543"
      },
      "source": [
        "# **Training**"
      ]
    },
    {
      "cell_type": "code",
      "metadata": {
        "id": "A9KO5l9znEM0"
      },
      "source": [
        "xc = np.concatenate((np.ones(shape=y.shape), x), axis = 1).astype(float)\n",
        "from numpy.linalg import inv\n",
        "coeffs = inv(xc.transpose().dot(xc)).dot(xc.transpose()).dot(y)"
      ],
      "execution_count": null,
      "outputs": []
    },
    {
      "cell_type": "code",
      "metadata": {
        "id": "thXaGaiCT4OC",
        "colab": {
          "base_uri": "https://localhost:8080/",
          "height": 1000
        },
        "outputId": "4ab953cc-8208-4018-e942-b0322542f4cd"
      },
      "source": [
        "# Adam實作 \n",
        "dim = 6 * 9 + 1 # 108個變數，加上常數項 1 * weight\n",
        "w0 = coeffs\n",
        "x0 = np.concatenate((np.ones([12 * 471, 1]), x), axis = 1).astype(float)\n",
        "iterationlist0 = []\n",
        "losslist0 = []\n",
        "learning_rate = 0.001\n",
        "iter_time = 10000\n",
        "s = np.zeros([dim, 1])\n",
        "r = np.zeros([dim, 1])\n",
        "eps = 0.0000000001\n",
        "for t in range(iter_time):\n",
        "    loss = np.sqrt(np.sum(np.power(np.dot(x0, w0) - y, 2))/471/12)# rmse\n",
        "    # np.dot()可使矩陣相乘、np.power(,2))可使矩陣平方\n",
        "    if(t%100==0):\n",
        "        print(str(t) + \":\" + str(loss))\n",
        "        iterationlist0.append(t)\n",
        "        losslist0.append(loss) \n",
        "    gradient = 2 * np.dot(x0.transpose(), np.dot(x0, w0) - y) # dim*1\n",
        "    s = 0.9 * s + 0.1 * gradient\n",
        "    r = 0.999 * r + 0.001 * (gradient ** 2) \n",
        "\n",
        "    s1 = s / (1 - 0.9 ** (t+1))\n",
        "    r1 = r / (1 - 0.999 ** (t+1))\n",
        "\n",
        "    w0 = w0 - (learning_rate * s1 / np.sqrt(r1 + eps)) \n",
        "np.save('weight0.npy', w0)\n",
        "w0"
      ],
      "execution_count": null,
      "outputs": [
        {
          "output_type": "stream",
          "text": [
            "0:5.827367589811332\n",
            "100:5.827367589826776\n",
            "200:5.827367589811359\n",
            "300:5.827367589811332\n",
            "400:5.827367589811332\n",
            "500:5.827367589811332\n",
            "600:5.827367589811332\n",
            "700:5.827367589811332\n",
            "800:5.827367589811332\n",
            "900:5.827367589811332\n",
            "1000:5.827367589811332\n",
            "1100:5.827367589811332\n",
            "1200:5.827367589811332\n",
            "1300:5.827367589811332\n",
            "1400:5.827367589811332\n",
            "1500:5.827367589811332\n",
            "1600:5.827367589811332\n",
            "1700:5.8273675898154425\n",
            "1800:5.827367592086568\n",
            "1900:5.827367589811436\n",
            "2000:5.827367589811332\n",
            "2100:5.827367589811332\n",
            "2200:5.8273675898147745\n",
            "2300:5.827367589811332\n",
            "2400:5.827367589811332\n",
            "2500:5.827367589811332\n",
            "2600:5.827367592888665\n",
            "2700:5.827367590437493\n",
            "2800:5.827367589811348\n",
            "2900:5.827367589811332\n",
            "3000:5.827367589811332\n",
            "3100:5.827367591986897\n",
            "3200:5.8273675898113755\n",
            "3300:5.827367589811332\n",
            "3400:5.827367589811332\n",
            "3500:5.827367589811332\n",
            "3600:5.827371251196723\n",
            "3700:5.827367590031679\n",
            "3800:5.827367589811332\n",
            "3900:5.827367589811332\n",
            "4000:5.8273675898119865\n",
            "4100:5.827367589811702\n",
            "4200:5.827367589811332\n",
            "4300:5.827367589811332\n",
            "4400:5.827367589811332\n",
            "4500:5.827367589811544\n",
            "4600:5.827367589811336\n",
            "4700:5.827367761277584\n",
            "4800:5.827367589811335\n",
            "4900:5.827367589811332\n",
            "5000:5.827367589815332\n",
            "5100:5.827367589811332\n",
            "5200:5.827367589811332\n",
            "5300:5.827367589811332\n",
            "5400:5.827367590972236\n",
            "5500:5.827367610736239\n",
            "5600:5.827367589811421\n",
            "5700:5.827367589811332\n",
            "5800:5.827367589811332\n",
            "5900:5.827367590991794\n",
            "6000:5.827367589811385\n",
            "6100:5.827367589811332\n",
            "6200:5.827367589811332\n",
            "6300:5.827367589811332\n",
            "6400:5.827373022303452\n",
            "6500:5.827367589899928\n",
            "6600:5.827367589811335\n",
            "6700:5.827367589811332\n",
            "6800:5.827367589811332\n",
            "6900:5.827367589812316\n",
            "7000:5.827367589811332\n",
            "7100:5.827367589811332\n",
            "7200:5.827367589811332\n",
            "7300:5.827367589910929\n",
            "7400:5.8273675898114465\n",
            "7500:5.827367589811332\n",
            "7600:5.827367589811332\n",
            "7700:5.827367589811332\n",
            "7800:5.827367676621885\n",
            "7900:5.827367589813774\n",
            "8000:5.827367589811332\n",
            "8100:5.827367589811331\n",
            "8200:5.827367589811332\n",
            "8300:5.827367590121164\n",
            "8400:5.827367589811347\n",
            "8500:5.827367589811332\n",
            "8600:5.827367589811332\n",
            "8700:5.827367589811332\n",
            "8800:5.82736758993049\n",
            "8900:5.827367589811335\n",
            "9000:5.827371114784909\n",
            "9100:5.8273675902363395\n",
            "9200:5.82736758981134\n",
            "9300:5.827367589889844\n",
            "9400:5.827367589811335\n",
            "9500:5.827367589811332\n",
            "9600:5.827367589811332\n",
            "9700:5.827367589811332\n",
            "9800:5.827367589824622\n",
            "9900:5.827367589811332\n"
          ],
          "name": "stdout"
        },
        {
          "output_type": "execute_result",
          "data": {
            "text/plain": [
              "array([[ 2.13740269e+01],\n",
              "       [ 1.14084178e-01],\n",
              "       [-1.85149163e-02],\n",
              "       [ 3.25458423e-02],\n",
              "       [-2.64920927e-01],\n",
              "       [ 1.97396666e-01],\n",
              "       [-1.04700819e-01],\n",
              "       [-1.61558429e-01],\n",
              "       [ 1.59362446e-01],\n",
              "       [ 5.87909072e-01],\n",
              "       [-2.50301036e-01],\n",
              "       [ 5.87552070e-01],\n",
              "       [-2.54486096e-01],\n",
              "       [-1.72533796e-01],\n",
              "       [-6.20166340e-02],\n",
              "       [-2.52875353e-01],\n",
              "       [-4.67276779e-01],\n",
              "       [-1.64240005e-01],\n",
              "       [ 1.04170416e+00],\n",
              "       [ 5.48448212e-02],\n",
              "       [ 2.94136107e-01],\n",
              "       [-7.86459077e-01],\n",
              "       [ 9.26632797e-01],\n",
              "       [-1.13269873e-01],\n",
              "       [-1.00466045e+00],\n",
              "       [ 8.53233716e-01],\n",
              "       [-1.83287732e-01],\n",
              "       [ 1.35236894e+00],\n",
              "       [-5.07512266e-01],\n",
              "       [-1.98716834e-01],\n",
              "       [ 3.59095193e+00],\n",
              "       [-4.02449817e+00],\n",
              "       [-4.75418102e-01],\n",
              "       [ 8.44120435e+00],\n",
              "       [-9.34312267e+00],\n",
              "       [ 1.80546047e-01],\n",
              "       [ 1.63233845e+01],\n",
              "       [ 1.27576949e-01],\n",
              "       [ 2.95200550e-01],\n",
              "       [ 7.65127840e-02],\n",
              "       [-4.11085148e-01],\n",
              "       [-5.62848533e-01],\n",
              "       [ 1.09633638e+00],\n",
              "       [-1.27302521e+00],\n",
              "       [ 3.53010712e-01],\n",
              "       [-1.08639447e-01],\n",
              "       [-6.04927252e-01],\n",
              "       [ 4.82851900e-01],\n",
              "       [-7.57821350e-02],\n",
              "       [-1.52264777e-01],\n",
              "       [-5.23846216e-02],\n",
              "       [ 1.42505086e-01],\n",
              "       [-4.22018912e-01],\n",
              "       [ 1.05798260e-01],\n",
              "       [ 7.47892625e-01]])"
            ]
          },
          "metadata": {
            "tags": []
          },
          "execution_count": 69
        }
      ]
    },
    {
      "cell_type": "code",
      "metadata": {
        "id": "wbCWdl_k_Sw2",
        "colab": {
          "base_uri": "https://localhost:8080/",
          "height": 276
        },
        "outputId": "081b9312-ca3b-41f1-8c9f-5794af25032d"
      },
      "source": [
        "import matplotlib.pyplot as plt\n",
        "plt.scatter(iterationlist0,losslist0)\n",
        "plt.show()"
      ],
      "execution_count": null,
      "outputs": [
        {
          "output_type": "display_data",
          "data": {
            "image/png": "[encoded data removed]",
            "text/plain": [
              "<Figure size 432x288 with 1 Axes>"
            ]
          },
          "metadata": {
            "tags": []
          }
        }
      ]
    },
    {
      "cell_type": "markdown",
      "metadata": {
        "id": "P_H_hhSLcUO8"
      },
      "source": [
        "# **Preparing Testing Data**"
      ]
    },
    {
      "cell_type": "code",
      "metadata": {
        "id": "qzSKPvwNeRtP"
      },
      "source": [
        "featurelist1 = [2, 7, 8, 9, 11, 12]\n",
        "featurelist = [2, 7, 8, 9, 11, 12]\n",
        "for i in range(1, 240):\n",
        "  for j in featurelist1:\n",
        "    featurelist.append(j + i * 18)"
      ],
      "execution_count": null,
      "outputs": []
    },
    {
      "cell_type": "code",
      "metadata": {
        "id": "le-mS8zOfaS9",
        "colab": {
          "base_uri": "https://localhost:8080/",
          "height": 34
        },
        "outputId": "6a6456ab-4950-4275-eb9e-ace9a3f3b4aa"
      },
      "source": [
        "len(featurelist)"
      ],
      "execution_count": null,
      "outputs": [
        {
          "output_type": "execute_result",
          "data": {
            "text/plain": [
              "1440"
            ]
          },
          "metadata": {
            "tags": []
          },
          "execution_count": 72
        }
      ]
    },
    {
      "cell_type": "code",
      "metadata": {
        "id": "Mh6Ig_oHXFzZ",
        "colab": {
          "base_uri": "https://localhost:8080/",
          "height": 238
        },
        "outputId": "3eefe3d0-3cc3-46a7-ae59-2007318b95b3"
      },
      "source": [
        "# testdata = pd.read_csv('gdrive/My Drive/hw1-regression/test.csv', header = None, encoding = 'big5')\n",
        "testdata = pd.read_csv('./test.csv', header = None, encoding = 'big5')\n",
        "test_data = testdata.iloc[featurelist, 2:]\n",
        "test_data[test_data == 'NR'] = 0\n",
        "test_data = test_data.to_numpy()\n",
        "test_x = np.empty([240, 6*9], dtype = float)\n",
        "for i in range(240):\n",
        "    test_x[i, :] = test_data[6 * i: 6* (i + 1), :].reshape(1, -1)\n",
        "for i in range(len(test_x)):\n",
        "    for j in range(len(test_x[0])):\n",
        "        if std_x[j] != 0:\n",
        "            test_x[i][j] = (test_x[i][j] - mean_x[j]) / std_x[j]\n",
        "test_x = np.concatenate((np.ones([240, 1]), test_x), axis = 1).astype(float)\n",
        "test_x"
      ],
      "execution_count": null,
      "outputs": [
        {
          "output_type": "execute_result",
          "data": {
            "text/plain": [
              "array([[ 1.00000000e+00,  2.96204346e-03, -8.87301241e-02, ...,\n",
              "        -4.22513992e-01, -2.59005603e-01, -2.04430320e-01],\n",
              "       [ 1.00000000e+00, -1.81010150e-01, -1.80726454e-01, ...,\n",
              "        -6.41495591e-01, -7.51385340e-01, -6.42200688e-01],\n",
              "       [ 1.00000000e+00,  9.84147076e-01,  4.32582414e-01, ...,\n",
              "         6.72394003e-01,  3.97500713e-01,  2.88061345e-01],\n",
              "       ...,\n",
              "       [ 1.00000000e+00,  6.77526754e-01,  4.01916970e-01, ...,\n",
              "         7.27139403e-01,  6.71045012e-01,  1.23897457e-01],\n",
              "       [ 1.00000000e+00, -2.11672182e-01, -2.72722784e-01, ...,\n",
              "        -3.92961937e-02, -4.01701641e-02,  2.96940485e+00],\n",
              "       [ 1.00000000e+00, -3.64982344e-01, -4.56715445e-01, ...,\n",
              "        -7.50986391e-01, -6.96676481e-01, -5.87479392e-01]])"
            ]
          },
          "metadata": {
            "tags": []
          },
          "execution_count": 73
        }
      ]
    },
    {
      "cell_type": "code",
      "metadata": {
        "id": "xVkjW0sMVsCb",
        "colab": {
          "base_uri": "https://localhost:8080/",
          "height": 238
        },
        "outputId": "5ca65101-e1f9-4aca-b4cf-59a8596a48d2"
      },
      "source": [
        "test_x"
      ],
      "execution_count": null,
      "outputs": [
        {
          "output_type": "execute_result",
          "data": {
            "text/plain": [
              "array([[ 1.00000000e+00,  2.96204346e-03, -8.87301241e-02, ...,\n",
              "        -4.22513992e-01, -2.59005603e-01, -2.04430320e-01],\n",
              "       [ 1.00000000e+00, -1.81010150e-01, -1.80726454e-01, ...,\n",
              "        -6.41495591e-01, -7.51385340e-01, -6.42200688e-01],\n",
              "       [ 1.00000000e+00,  9.84147076e-01,  4.32582414e-01, ...,\n",
              "         6.72394003e-01,  3.97500713e-01,  2.88061345e-01],\n",
              "       ...,\n",
              "       [ 1.00000000e+00,  6.77526754e-01,  4.01916970e-01, ...,\n",
              "         7.27139403e-01,  6.71045012e-01,  1.23897457e-01],\n",
              "       [ 1.00000000e+00, -2.11672182e-01, -2.72722784e-01, ...,\n",
              "        -3.92961937e-02, -4.01701641e-02,  2.96940485e+00],\n",
              "       [ 1.00000000e+00, -3.64982344e-01, -4.56715445e-01, ...,\n",
              "        -7.50986391e-01, -6.96676481e-01, -5.87479392e-01]])"
            ]
          },
          "metadata": {
            "tags": []
          },
          "execution_count": 74
        }
      ]
    },
    {
      "cell_type": "markdown",
      "metadata": {
        "id": "oKU_rUmTf46b"
      },
      "source": [
        "# **Prediction**"
      ]
    },
    {
      "cell_type": "code",
      "metadata": {
        "id": "RVcBnOyyf4Ek",
        "colab": {
          "base_uri": "https://localhost:8080/",
          "height": 1000
        },
        "outputId": "646f56b8-1589-437c-b384-59874101954d"
      },
      "source": [
        "w = np.load('weight0.npy')\n",
        "ans_y = np.dot(test_x, coeffs)\n",
        "ans_y"
      ],
      "execution_count": null,
      "outputs": [
        {
          "output_type": "execute_result",
          "data": {
            "text/plain": [
              "array([[  7.28450163],\n",
              "       [ 16.54635716],\n",
              "       [ 23.30405444],\n",
              "       [  6.66716455],\n",
              "       [ 27.9630283 ],\n",
              "       [ 22.46588952],\n",
              "       [ 23.76070634],\n",
              "       [ 29.03371359],\n",
              "       [ 17.78730976],\n",
              "       [ 60.79830959],\n",
              "       [ 11.29606058],\n",
              "       [ 10.7600473 ],\n",
              "       [ 63.8767107 ],\n",
              "       [ 52.7204188 ],\n",
              "       [ 22.40425922],\n",
              "       [ 12.63379362],\n",
              "       [ 33.37252152],\n",
              "       [ 65.2629922 ],\n",
              "       [  0.71289201],\n",
              "       [ 17.68446167],\n",
              "       [ 40.95215422],\n",
              "       [ 72.63645487],\n",
              "       [  8.08603894],\n",
              "       [ 19.92143829],\n",
              "       [ 13.97943145],\n",
              "       [ 38.25330477],\n",
              "       [ 14.23189334],\n",
              "       [ 74.1459752 ],\n",
              "       [  7.41482013],\n",
              "       [ 54.78712606],\n",
              "       [ 21.22864415],\n",
              "       [  8.53537663],\n",
              "       [  0.89624675],\n",
              "       [ 17.25785512],\n",
              "       [ 27.63268849],\n",
              "       [ 37.76699392],\n",
              "       [ 43.30859271],\n",
              "       [ 30.91445112],\n",
              "       [ 42.4646701 ],\n",
              "       [ 34.66531806],\n",
              "       [  7.87873721],\n",
              "       [ 40.30717118],\n",
              "       [ 32.6636765 ],\n",
              "       [ 49.69658172],\n",
              "       [ 16.21146087],\n",
              "       [ 34.64728067],\n",
              "       [ 24.37548234],\n",
              "       [ 10.4412374 ],\n",
              "       [ 26.06028852],\n",
              "       [ 33.35956207],\n",
              "       [ 22.83420523],\n",
              "       [  8.41463861],\n",
              "       [ 24.25872834],\n",
              "       [ 51.8200399 ],\n",
              "       [ 15.49947326],\n",
              "       [ 35.6889743 ],\n",
              "       [ 34.04305433],\n",
              "       [ 20.46404128],\n",
              "       [ 58.7140608 ],\n",
              "       [ 22.24274863],\n",
              "       [ 12.89423212],\n",
              "       [ 43.33839874],\n",
              "       [ 13.68720985],\n",
              "       [ 50.81256049],\n",
              "       [ 14.69641209],\n",
              "       [ 16.65691168],\n",
              "       [ 15.49477928],\n",
              "       [  0.80756343],\n",
              "       [ 43.97368298],\n",
              "       [ 29.07816593],\n",
              "       [ 19.12263487],\n",
              "       [ 40.05783491],\n",
              "       [ 61.07389287],\n",
              "       [  6.22397437],\n",
              "       [ 16.56100146],\n",
              "       [  2.87347163],\n",
              "       [ 38.46226171],\n",
              "       [ 13.14078068],\n",
              "       [ 23.23089473],\n",
              "       [ 21.08810007],\n",
              "       [ 22.97981392],\n",
              "       [ 31.67918256],\n",
              "       [ 18.99486283],\n",
              "       [ 92.84281671],\n",
              "       [ 35.3702645 ],\n",
              "       [ 28.10666281],\n",
              "       [ 21.27725532],\n",
              "       [ 34.40742622],\n",
              "       [ 22.7783782 ],\n",
              "       [ 18.85739265],\n",
              "       [ 29.7386875 ],\n",
              "       [ 40.39009689],\n",
              "       [  5.43242102],\n",
              "       [ 37.98670514],\n",
              "       [ 44.4822866 ],\n",
              "       [ 16.37122468],\n",
              "       [ 29.42889251],\n",
              "       [ 13.66748176],\n",
              "       [ 23.75835841],\n",
              "       [  3.72072865],\n",
              "       [ 19.9383377 ],\n",
              "       [ 27.20192839],\n",
              "       [ 17.32353308],\n",
              "       [ 16.11587726],\n",
              "       [ 23.08045925],\n",
              "       [ 39.86988282],\n",
              "       [ 31.29612912],\n",
              "       [  7.28516841],\n",
              "       [  6.32359616],\n",
              "       [ 77.29486779],\n",
              "       [ 47.61297647],\n",
              "       [ 16.69829438],\n",
              "       [ 25.80032712],\n",
              "       [ 15.66646829],\n",
              "       [ 13.17048048],\n",
              "       [ 25.53702614],\n",
              "       [ 27.43942098],\n",
              "       [  8.09639559],\n",
              "       [ 17.7062127 ],\n",
              "       [ 18.81336231],\n",
              "       [ 73.74911009],\n",
              "       [ 25.00765602],\n",
              "       [ 35.86969918],\n",
              "       [ 25.02790203],\n",
              "       [  7.77629601],\n",
              "       [ 38.23854916],\n",
              "       [  7.58736423],\n",
              "       [ 22.41689945],\n",
              "       [ 28.67567354],\n",
              "       [ 62.12537425],\n",
              "       [ 20.42957771],\n",
              "       [ 24.3841882 ],\n",
              "       [ 58.9667136 ],\n",
              "       [ 15.17146183],\n",
              "       [ 13.44036576],\n",
              "       [  2.08638199],\n",
              "       [ 13.56489119],\n",
              "       [ 58.89770874],\n",
              "       [ 16.50649034],\n",
              "       [  6.8837407 ],\n",
              "       [ 27.80361763],\n",
              "       [ 25.36785262],\n",
              "       [ 44.86478889],\n",
              "       [ 30.61627345],\n",
              "       [ 17.00673457],\n",
              "       [ 26.03393006],\n",
              "       [ 12.26226095],\n",
              "       [ 52.98909052],\n",
              "       [ 23.53693179],\n",
              "       [ 41.14298886],\n",
              "       [ 11.21171693],\n",
              "       [  8.32507894],\n",
              "       [ 23.69778621],\n",
              "       [  6.93859759],\n",
              "       [ 15.11194992],\n",
              "       [ 39.52350901],\n",
              "       [  8.93555577],\n",
              "       [ 36.26273688],\n",
              "       [ 11.67478454],\n",
              "       [ 18.50216209],\n",
              "       [ 42.1462199 ],\n",
              "       [ 19.02291001],\n",
              "       [ 14.43515069],\n",
              "       [  7.81135848],\n",
              "       [ 51.16215667],\n",
              "       [ 30.3957162 ],\n",
              "       [  3.56847376],\n",
              "       [ 16.16386471],\n",
              "       [ 63.56217492],\n",
              "       [ 11.63933958],\n",
              "       [ 64.6830247 ],\n",
              "       [ 38.9797275 ],\n",
              "       [ 27.83237172],\n",
              "       [ 18.96536312],\n",
              "       [ 59.37904564],\n",
              "       [ 24.0951074 ],\n",
              "       [ 20.66555623],\n",
              "       [ 37.89090996],\n",
              "       [ 11.76955885],\n",
              "       [ 31.89212503],\n",
              "       [ 18.15913402],\n",
              "       [ 10.75251949],\n",
              "       [ 51.82000408],\n",
              "       [ 47.3886612 ],\n",
              "       [ 15.74438442],\n",
              "       [ 33.4902602 ],\n",
              "       [ 25.00783144],\n",
              "       [ 71.7222767 ],\n",
              "       [ 10.10730737],\n",
              "       [ 58.54987786],\n",
              "       [ 38.57614042],\n",
              "       [ 16.07893507],\n",
              "       [ 26.70217108],\n",
              "       [ -0.18391955],\n",
              "       [ 19.9467702 ],\n",
              "       [  0.98947196],\n",
              "       [ 34.28230656],\n",
              "       [ 12.60669088],\n",
              "       [ 20.51230188],\n",
              "       [ 61.38534016],\n",
              "       [ 25.4239702 ],\n",
              "       [ 27.71733543],\n",
              "       [ 63.88080191],\n",
              "       [ 11.34474556],\n",
              "       [  9.8358364 ],\n",
              "       [ 10.96331987],\n",
              "       [  7.52950443],\n",
              "       [  0.99677166],\n",
              "       [125.80023809],\n",
              "       [ 20.20055705],\n",
              "       [ 13.87115796],\n",
              "       [ 15.03766114],\n",
              "       [ 36.97527623],\n",
              "       [ 35.5037092 ],\n",
              "       [ 20.30624845],\n",
              "       [ 35.24960854],\n",
              "       [ 78.48960603],\n",
              "       [  1.08006311],\n",
              "       [ 13.36685281],\n",
              "       [ 32.77595451],\n",
              "       [ 15.43871877],\n",
              "       [ 14.34973895],\n",
              "       [115.78825695],\n",
              "       [ 13.85623781],\n",
              "       [ 15.97990602],\n",
              "       [ 62.06703426],\n",
              "       [ 15.62370619],\n",
              "       [ 18.97960406],\n",
              "       [ 10.69839004],\n",
              "       [ 11.21068539],\n",
              "       [ 48.04982727],\n",
              "       [ 12.03639674],\n",
              "       [ 54.74676664],\n",
              "       [ 41.37674826],\n",
              "       [ 25.82347693],\n",
              "       [ 42.29785979],\n",
              "       [ 69.62310053],\n",
              "       [ 42.87400157],\n",
              "       [  5.90797072],\n",
              "       [ 18.31415257]])"
            ]
          },
          "metadata": {
            "tags": []
          },
          "execution_count": 75
        }
      ]
    },
    {
      "cell_type": "markdown",
      "metadata": {
        "id": "HnhE-JYggDHy"
      },
      "source": [
        "# **Saving Prediction Results**"
      ]
    },
    {
      "cell_type": "code",
      "metadata": {
        "id": "J4AUF34rgHMQ",
        "colab": {
          "base_uri": "https://localhost:8080/",
          "height": 1000
        },
        "outputId": "67a6835b-f3c6-41d1-bda7-463c4bde30f0"
      },
      "source": [
        "import csv\n",
        "with open('submit.csv', mode='w', newline='') as submit_file:\n",
        "    csv_writer = csv.writer(submit_file)\n",
        "    header = ['id', 'value']\n",
        "    print(header)\n",
        "    csv_writer.writerow(header)\n",
        "    for i in range(240):\n",
        "        row = ['id_' + str(i), ans_y[i][0]]\n",
        "        csv_writer.writerow(row)\n",
        "        print(row)"
      ],
      "execution_count": null,
      "outputs": [
        {
          "output_type": "stream",
          "text": [
            "['id', 'value']\n",
            "['id_0', 7.284501631250135]\n",
            "['id_1', 16.546357163982197]\n",
            "['id_2', 23.304054439270562]\n",
            "['id_3', 6.667164554854377]\n",
            "['id_4', 27.963028297490606]\n",
            "['id_5', 22.46588951984099]\n",
            "['id_6', 23.760706339915266]\n",
            "['id_7', 29.033713586761262]\n",
            "['id_8', 17.78730976437013]\n",
            "['id_9', 60.79830958618405]\n",
            "['id_10', 11.296060577264461]\n",
            "['id_11', 10.76004730205579]\n",
            "['id_12', 63.87671069731198]\n",
            "['id_13', 52.72041879589837]\n",
            "['id_14', 22.404259218434053]\n",
            "['id_15', 12.633793624135848]\n",
            "['id_16', 33.372521518813905]\n",
            "['id_17', 65.26299220183184]\n",
            "['id_18', 0.7128920095709355]\n",
            "['id_19', 17.684461668011338]\n",
            "['id_20', 40.952154218729355]\n",
            "['id_21', 72.63645487133145]\n",
            "['id_22', 8.086038943083638]\n",
            "['id_23', 19.921438292315397]\n",
            "['id_24', 13.97943144657895]\n",
            "['id_25', 38.25330477250516]\n",
            "['id_26', 14.231893343438381]\n",
            "['id_27', 74.14597520314013]\n",
            "['id_28', 7.414820132768625]\n",
            "['id_29', 54.78712605955209]\n",
            "['id_30', 21.228644146312963]\n",
            "['id_31', 8.53537663391925]\n",
            "['id_32', 0.8962467487764391]\n",
            "['id_33', 17.257855116929125]\n",
            "['id_34', 27.632688494143384]\n",
            "['id_35', 37.76699391903371]\n",
            "['id_36', 43.30859271015268]\n",
            "['id_37', 30.914451118126586]\n",
            "['id_38', 42.46467010364253]\n",
            "['id_39', 34.66531805529594]\n",
            "['id_40', 7.878737213204185]\n",
            "['id_41', 40.307171176804665]\n",
            "['id_42', 32.663676495908675]\n",
            "['id_43', 49.696581717072746]\n",
            "['id_44', 16.211460865738434]\n",
            "['id_45', 34.64728066676683]\n",
            "['id_46', 24.375482340662373]\n",
            "['id_47', 10.441237400429868]\n",
            "['id_48', 26.06028852182951]\n",
            "['id_49', 33.359562066445356]\n",
            "['id_50', 22.834205232186115]\n",
            "['id_51', 8.414638607841894]\n",
            "['id_52', 24.258728340585407]\n",
            "['id_53', 51.82003989812292]\n",
            "['id_54', 15.499473259391122]\n",
            "['id_55', 35.688974303214806]\n",
            "['id_56', 34.043054327356295]\n",
            "['id_57', 20.464041282498844]\n",
            "['id_58', 58.7140608035197]\n",
            "['id_59', 22.24274863406512]\n",
            "['id_60', 12.894232116848967]\n",
            "['id_61', 43.338398740922365]\n",
            "['id_62', 13.687209853240342]\n",
            "['id_63', 50.812560486864804]\n",
            "['id_64', 14.696412090325817]\n",
            "['id_65', 16.656911681413067]\n",
            "['id_66', 15.494779284643052]\n",
            "['id_67', 0.8075634296538655]\n",
            "['id_68', 43.97368298114752]\n",
            "['id_69', 29.078165929756707]\n",
            "['id_70', 19.12263487190216]\n",
            "['id_71', 40.05783490733803]\n",
            "['id_72', 61.07389286972899]\n",
            "['id_73', 6.223974367115206]\n",
            "['id_74', 16.561001462316593]\n",
            "['id_75', 2.8734716309074466]\n",
            "['id_76', 38.462261706458875]\n",
            "['id_77', 13.140780675013078]\n",
            "['id_78', 23.230894734222762]\n",
            "['id_79', 21.08810006845254]\n",
            "['id_80', 22.9798139237917]\n",
            "['id_81', 31.679182558234753]\n",
            "['id_82', 18.994862826761487]\n",
            "['id_83', 92.84281670584346]\n",
            "['id_84', 35.37026449737297]\n",
            "['id_85', 28.106662812659074]\n",
            "['id_86', 21.27725532209477]\n",
            "['id_87', 34.407426223449576]\n",
            "['id_88', 22.778378197856483]\n",
            "['id_89', 18.857392651263055]\n",
            "['id_90', 29.73868750049484]\n",
            "['id_91', 40.39009688671413]\n",
            "['id_92', 5.432421023189107]\n",
            "['id_93', 37.986705143562666]\n",
            "['id_94', 44.482286600280005]\n",
            "['id_95', 16.371224681631663]\n",
            "['id_96', 29.428892513687963]\n",
            "['id_97', 13.667481763536534]\n",
            "['id_98', 23.7583584142059]\n",
            "['id_99', 3.7207286517864366]\n",
            "['id_100', 19.938337700300412]\n",
            "['id_101', 27.201928387763626]\n",
            "['id_102', 17.323533077110106]\n",
            "['id_103', 16.115877260613733]\n",
            "['id_104', 23.080459247726342]\n",
            "['id_105', 39.86988282193658]\n",
            "['id_106', 31.296129115112752]\n",
            "['id_107', 7.285168414703814]\n",
            "['id_108', 6.323596160514515]\n",
            "['id_109', 77.29486779176837]\n",
            "['id_110', 47.612976469667956]\n",
            "['id_111', 16.698294380815895]\n",
            "['id_112', 25.800327121100047]\n",
            "['id_113', 15.666468292062]\n",
            "['id_114', 13.170480481015156]\n",
            "['id_115', 25.537026141413737]\n",
            "['id_116', 27.43942097651864]\n",
            "['id_117', 8.096395590485415]\n",
            "['id_118', 17.706212703807047]\n",
            "['id_119', 18.81336231287913]\n",
            "['id_120', 73.7491100856257]\n",
            "['id_121', 25.007656019539514]\n",
            "['id_122', 35.86969917527271]\n",
            "['id_123', 25.027902026809734]\n",
            "['id_124', 7.776296013536685]\n",
            "['id_125', 38.23854915712599]\n",
            "['id_126', 7.587364233360133]\n",
            "['id_127', 22.416899451398187]\n",
            "['id_128', 28.675673540442354]\n",
            "['id_129', 62.12537424501807]\n",
            "['id_130', 20.429577711686026]\n",
            "['id_131', 24.38418820154074]\n",
            "['id_132', 58.96671359951597]\n",
            "['id_133', 15.171461828653547]\n",
            "['id_134', 13.440365757836986]\n",
            "['id_135', 2.0863819907423484]\n",
            "['id_136', 13.56489118569249]\n",
            "['id_137', 58.897708743364795]\n",
            "['id_138', 16.506490340794223]\n",
            "['id_139', 6.883740696778045]\n",
            "['id_140', 27.803617634110598]\n",
            "['id_141', 25.367852623767057]\n",
            "['id_142', 44.864788885819955]\n",
            "['id_143', 30.616273447752025]\n",
            "['id_144', 17.006734565216973]\n",
            "['id_145', 26.033930062607396]\n",
            "['id_146', 12.262260948699327]\n",
            "['id_147', 52.98909051534887]\n",
            "['id_148', 23.536931789171312]\n",
            "['id_149', 41.14298886334531]\n",
            "['id_150', 11.211716928987698]\n",
            "['id_151', 8.325078939900415]\n",
            "['id_152', 23.697786206670905]\n",
            "['id_153', 6.938597588147429]\n",
            "['id_154', 15.111949916655217]\n",
            "['id_155', 39.52350901370037]\n",
            "['id_156', 8.935555766061745]\n",
            "['id_157', 36.262736883353114]\n",
            "['id_158', 11.67478453662869]\n",
            "['id_159', 18.502162086679483]\n",
            "['id_160', 42.14621990114383]\n",
            "['id_161', 19.022910010778183]\n",
            "['id_162', 14.435150690307255]\n",
            "['id_163', 7.811358479418114]\n",
            "['id_164', 51.16215667408671]\n",
            "['id_165', 30.395716200535695]\n",
            "['id_166', 3.5684737595332625]\n",
            "['id_167', 16.163864707453893]\n",
            "['id_168', 63.56217491727151]\n",
            "['id_169', 11.639339583135754]\n",
            "['id_170', 64.68302470331386]\n",
            "['id_171', 38.97972749793742]\n",
            "['id_172', 27.832371717883365]\n",
            "['id_173', 18.965363122057166]\n",
            "['id_174', 59.379045637596235]\n",
            "['id_175', 24.095107402383427]\n",
            "['id_176', 20.665556234127926]\n",
            "['id_177', 37.890909962976345]\n",
            "['id_178', 11.769558846925202]\n",
            "['id_179', 31.892125027967825]\n",
            "['id_180', 18.15913402222736]\n",
            "['id_181', 10.752519493269165]\n",
            "['id_182', 51.820004082541985]\n",
            "['id_183', 47.388661196157166]\n",
            "['id_184', 15.744384416801497]\n",
            "['id_185', 33.490260201267894]\n",
            "['id_186', 25.007831438237176]\n",
            "['id_187', 71.72227669566652]\n",
            "['id_188', 10.107307371633828]\n",
            "['id_189', 58.54987786459622]\n",
            "['id_190', 38.57614042359799]\n",
            "['id_191', 16.078935068821373]\n",
            "['id_192', 26.702171079262403]\n",
            "['id_193', -0.1839195532479364]\n",
            "['id_194', 19.946770196850863]\n",
            "['id_195', 0.9894719598305208]\n",
            "['id_196', 34.28230656379854]\n",
            "['id_197', 12.606690878419933]\n",
            "['id_198', 20.512301876335147]\n",
            "['id_199', 61.385340164970955]\n",
            "['id_200', 25.42397020272037]\n",
            "['id_201', 27.717335425330578]\n",
            "['id_202', 63.88080190529599]\n",
            "['id_203', 11.344745562552845]\n",
            "['id_204', 9.835836398673782]\n",
            "['id_205', 10.963319870676973]\n",
            "['id_206', 7.529504431053754]\n",
            "['id_207', 0.9967716620779721]\n",
            "['id_208', 125.80023809211471]\n",
            "['id_209', 20.200557049910827]\n",
            "['id_210', 13.871157957321538]\n",
            "['id_211', 15.037661140904525]\n",
            "['id_212', 36.975276231241146]\n",
            "['id_213', 35.503709196374615]\n",
            "['id_214', 20.30624845388023]\n",
            "['id_215', 35.24960853566059]\n",
            "['id_216', 78.48960602918626]\n",
            "['id_217', 1.0800631091612036]\n",
            "['id_218', 13.366852811931002]\n",
            "['id_219', 32.77595451089617]\n",
            "['id_220', 15.438718767770329]\n",
            "['id_221', 14.349738947303688]\n",
            "['id_222', 115.78825695114469]\n",
            "['id_223', 13.856237812983883]\n",
            "['id_224', 15.979906015576764]\n",
            "['id_225', 62.06703426199073]\n",
            "['id_226', 15.623706186938387]\n",
            "['id_227', 18.97960405523813]\n",
            "['id_228', 10.698390039115473]\n",
            "['id_229', 11.210685392127559]\n",
            "['id_230', 48.049827272402354]\n",
            "['id_231', 12.03639673664291]\n",
            "['id_232', 54.74676663624744]\n",
            "['id_233', 41.37674826280061]\n",
            "['id_234', 25.82347693162152]\n",
            "['id_235', 42.29785979307303]\n",
            "['id_236', 69.62310052777599]\n",
            "['id_237', 42.87400157287084]\n",
            "['id_238', 5.90797072002848]\n",
            "['id_239', 18.314152565336975]\n"
          ],
          "name": "stdout"
        }
      ]
    }
  ]
}